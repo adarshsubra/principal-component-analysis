{
 "cells": [
  {
   "cell_type": "code",
   "execution_count": 1,
   "id": "transparent-argument",
   "metadata": {},
   "outputs": [],
   "source": [
    "# Name: Mrigank Doshy\n",
    "# Course: CMPSC 448 - Spring 2021\n",
    "# Homework 5, Problem 2"
   ]
  },
  {
   "cell_type": "code",
   "execution_count": 2,
   "id": "portable-meaning",
   "metadata": {},
   "outputs": [],
   "source": [
    "from sklearn.datasets import load_iris\n",
    "import matplotlib.pyplot as plt\n",
    "from sklearn.cluster import KMeans\n",
    "from sklearn import preprocessing\n",
    "import numpy as np \n",
    "from sklearn.decomposition import PCA "
   ]
  },
  {
   "cell_type": "code",
   "execution_count": 3,
   "id": "specific-crawford",
   "metadata": {},
   "outputs": [],
   "source": [
    "iris = load_iris() \n",
    "X = iris.data \n",
    "y = iris.target\n",
    "x = np.array(X)"
   ]
  },
  {
   "cell_type": "code",
   "execution_count": 4,
   "id": "visible-crisis",
   "metadata": {},
   "outputs": [
    {
     "name": "stdout",
     "output_type": "stream",
     "text": [
      "Part a \n",
      "\n",
      "n_components = 1 \n",
      "\n",
      "Explained Variance Ratio:  [0.92461872]\n",
      "Explained Variance:  [4.22824171]\n"
     ]
    }
   ],
   "source": [
    "print(\"Part a \\n\")\n",
    "\n",
    "pca1 = PCA(n_components=1) \n",
    "pca1.fit(x) \n",
    "\n",
    "print(\"n_components = 1 \\n\")\n",
    "print(\"Explained Variance Ratio: \", pca1.explained_variance_ratio_) \n",
    "print(\"Explained Variance: \", pca1.explained_variance_)"
   ]
  },
  {
   "cell_type": "code",
   "execution_count": 5,
   "id": "internal-venezuela",
   "metadata": {},
   "outputs": [
    {
     "name": "stdout",
     "output_type": "stream",
     "text": [
      "n_components = 2 \n",
      "\n",
      "Explained Variance Ratio:  [0.92461872 0.05306648]\n",
      "Explained Variance:  [4.22824171 0.24267075]\n"
     ]
    }
   ],
   "source": [
    "pca2 = PCA(n_components=2) \n",
    "pca2.fit(x) \n",
    "\n",
    "print(\"n_components = 2 \\n\")\n",
    "print(\"Explained Variance Ratio: \", pca2.explained_variance_ratio_) \n",
    "print(\"Explained Variance: \", pca2.explained_variance_)"
   ]
  },
  {
   "cell_type": "code",
   "execution_count": 6,
   "id": "solid-concern",
   "metadata": {},
   "outputs": [
    {
     "name": "stdout",
     "output_type": "stream",
     "text": [
      "n_components = 3 \n",
      "\n",
      "Explained Variance Ratio:  [0.92461872 0.05306648 0.01710261]\n",
      "Explained Variance:  [4.22824171 0.24267075 0.0782095 ]\n"
     ]
    }
   ],
   "source": [
    "pca3 = PCA(n_components=3) \n",
    "pca3.fit(x) \n",
    "\n",
    "print(\"n_components = 3 \\n\")\n",
    "print(\"Explained Variance Ratio: \", pca3.explained_variance_ratio_) \n",
    "print(\"Explained Variance: \", pca3.explained_variance_)"
   ]
  },
  {
   "cell_type": "code",
   "execution_count": 7,
   "id": "appropriate-tonight",
   "metadata": {},
   "outputs": [
    {
     "name": "stdout",
     "output_type": "stream",
     "text": [
      "n_components = 4 \n",
      "\n",
      "Explained Variance Ratio:  [0.92461872 0.05306648 0.01710261 0.00521218]\n",
      "Explained Variance:  [4.22824171 0.24267075 0.0782095  0.02383509]\n"
     ]
    }
   ],
   "source": [
    "pca4 = PCA(n_components=4) \n",
    "pca4.fit(x) \n",
    "\n",
    "print(\"n_components = 4 \\n\")\n",
    "print(\"Explained Variance Ratio: \", pca4.explained_variance_ratio_) \n",
    "print(\"Explained Variance: \", pca4.explained_variance_)"
   ]
  },
  {
   "cell_type": "code",
   "execution_count": 8,
   "id": "latin-toner",
   "metadata": {},
   "outputs": [
    {
     "name": "stdout",
     "output_type": "stream",
     "text": [
      "Part b \n",
      "\n"
     ]
    }
   ],
   "source": [
    "print(\"Part b \\n\")\n",
    "\n",
    "x_scaled = preprocessing.scale(x)\n",
    "x_min_max = preprocessing.MinMaxScaler().fit_transform(x_scaled)\n",
    "x_normalized = preprocessing.normalize(x_min_max, norm='l2')"
   ]
  },
  {
   "cell_type": "code",
   "execution_count": 9,
   "id": "timely-carrier",
   "metadata": {},
   "outputs": [
    {
     "name": "stdout",
     "output_type": "stream",
     "text": [
      "Processed Data, n_components = 1 \n",
      "\n",
      "Explained Variance Ratio:  [0.928563]\n",
      "Explained Variance:  [0.19419117]\n"
     ]
    }
   ],
   "source": [
    "print(\"Processed Data, n_components = 1 \\n\")\n",
    "pca11 = PCA(n_components=1) \n",
    "pca11.fit(x_normalized) \n",
    "print(\"Explained Variance Ratio: \", pca11.explained_variance_ratio_) \n",
    "print(\"Explained Variance: \", pca11.explained_variance_)"
   ]
  },
  {
   "cell_type": "code",
   "execution_count": 10,
   "id": "prostate-johnson",
   "metadata": {},
   "outputs": [
    {
     "name": "stdout",
     "output_type": "stream",
     "text": [
      "Processed Data, n_components = 2 \n",
      "\n",
      "Explained Variance Ratio:  [0.928563   0.04816961]\n",
      "Explained Variance:  [0.19419117 0.01007375]\n"
     ]
    }
   ],
   "source": [
    "print(\"Processed Data, n_components = 2 \\n\")\n",
    "pca12 = PCA(n_components=2) \n",
    "pca12.fit(x_normalized) \n",
    "print(\"Explained Variance Ratio: \", pca12.explained_variance_ratio_) \n",
    "print(\"Explained Variance: \", pca12.explained_variance_)"
   ]
  },
  {
   "cell_type": "code",
   "execution_count": 11,
   "id": "broadband-preserve",
   "metadata": {},
   "outputs": [
    {
     "name": "stdout",
     "output_type": "stream",
     "text": [
      "Processed Data, n_components = 3 \n",
      "\n",
      "Explained Variance Ratio:  [0.928563   0.04816961 0.01516153]\n",
      "Explained Variance:  [0.19419117 0.01007375 0.00317074]\n"
     ]
    }
   ],
   "source": [
    "print(\"Processed Data, n_components = 3 \\n\")\n",
    "pca13 = PCA(n_components=3) \n",
    "pca13.fit(x_normalized) \n",
    "print(\"Explained Variance Ratio: \", pca13.explained_variance_ratio_) \n",
    "print(\"Explained Variance: \", pca13.explained_variance_)"
   ]
  },
  {
   "cell_type": "code",
   "execution_count": 12,
   "id": "framed-introduction",
   "metadata": {},
   "outputs": [
    {
     "name": "stdout",
     "output_type": "stream",
     "text": [
      "Processed Data, n_components = 4 \n",
      "\n",
      "Explained Variance Ratio:  [0.928563   0.04816961 0.01516153 0.00810585]\n",
      "Explained Variance:  [0.19419117 0.01007375 0.00317074 0.00169518]\n"
     ]
    }
   ],
   "source": [
    "print(\"Processed Data, n_components = 4 \\n\")\n",
    "pca14 = PCA(n_components=4) \n",
    "pca14.fit(x_normalized) \n",
    "print(\"Explained Variance Ratio: \", pca14.explained_variance_ratio_) \n",
    "print(\"Explained Variance: \", pca14.explained_variance_)"
   ]
  },
  {
   "cell_type": "code",
   "execution_count": null,
   "id": "prime-practitioner",
   "metadata": {},
   "outputs": [],
   "source": []
  }
 ],
 "metadata": {
  "kernelspec": {
   "display_name": "Python 3",
   "language": "python",
   "name": "python3"
  },
  "language_info": {
   "codemirror_mode": {
    "name": "ipython",
    "version": 3
   },
   "file_extension": ".py",
   "mimetype": "text/x-python",
   "name": "python",
   "nbconvert_exporter": "python",
   "pygments_lexer": "ipython3",
   "version": "3.9.1"
  }
 },
 "nbformat": 4,
 "nbformat_minor": 5
}
