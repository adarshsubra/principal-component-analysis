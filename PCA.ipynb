{
 "cells": [
  {
   "cell_type": "code",
   "execution_count": 1,
   "id": "imperial-stewart",
   "metadata": {},
   "outputs": [],
   "source": [
    "# Name: Mrigank Doshy\n",
    "# Course: CMPSC 448 - Spring 2021\n",
    "# Homework 5, Problem 2"
   ]
  },
  {
   "cell_type": "code",
   "execution_count": 2,
   "id": "grand-berlin",
   "metadata": {},
   "outputs": [],
   "source": [
    "from sklearn.datasets import load_iris\n",
    "import matplotlib.pyplot as plt\n",
    "from sklearn.cluster import KMeans\n",
    "from sklearn import preprocessing\n",
    "import numpy as np \n",
    "from sklearn.decomposition import PCA "
   ]
  },
  {
   "cell_type": "code",
   "execution_count": 3,
   "id": "responsible-debate",
   "metadata": {},
   "outputs": [],
   "source": [
    "iris = load_iris() \n",
    "X = iris.data \n",
    "y = iris.target\n",
    "x = np.array(X)"
   ]
  },
  {
   "cell_type": "code",
   "execution_count": 4,
   "id": "comprehensive-hearing",
   "metadata": {},
   "outputs": [
    {
     "name": "stdout",
     "output_type": "stream",
     "text": [
      "n_components = 1 \n",
      "\n",
      "Explained Variance Ratio:  [0.92461872]\n",
      "Explained Variance:  [4.22824171]\n"
     ]
    }
   ],
   "source": [
    "pca1 = PCA(n_components=1) \n",
    "pca1.fit(x) \n",
    "\n",
    "print(\"n_components = 1 \\n\")\n",
    "print(\"Explained Variance Ratio: \", pca1.explained_variance_ratio_) \n",
    "print(\"Explained Variance: \", pca1.explained_variance_)"
   ]
  },
  {
   "cell_type": "code",
   "execution_count": 5,
   "id": "derived-closure",
   "metadata": {},
   "outputs": [
    {
     "name": "stdout",
     "output_type": "stream",
     "text": [
      "n_components = 2 \n",
      "\n",
      "Explained Variance Ratio:  [0.92461872]\n",
      "Explained Variance:  [4.22824171]\n"
     ]
    }
   ],
   "source": [
    "pca2 = PCA(n_components=2) \n",
    "pca2.fit(x) \n",
    "\n",
    "print(\"n_components = 2 \\n\")\n",
    "print(\"Explained Variance Ratio: \", pca1.explained_variance_ratio_) \n",
    "print(\"Explained Variance: \", pca1.explained_variance_)"
   ]
  },
  {
   "cell_type": "code",
   "execution_count": 6,
   "id": "offensive-organization",
   "metadata": {},
   "outputs": [
    {
     "name": "stdout",
     "output_type": "stream",
     "text": [
      "n_components = 3 \n",
      "\n",
      "Explained Variance Ratio:  [0.92461872]\n",
      "Explained Variance:  [4.22824171]\n"
     ]
    }
   ],
   "source": [
    "pca3 = PCA(n_components=3) \n",
    "pca3.fit(x) \n",
    "\n",
    "print(\"n_components = 3 \\n\")\n",
    "print(\"Explained Variance Ratio: \", pca1.explained_variance_ratio_) \n",
    "print(\"Explained Variance: \", pca1.explained_variance_)"
   ]
  },
  {
   "cell_type": "code",
   "execution_count": 7,
   "id": "average-antigua",
   "metadata": {},
   "outputs": [
    {
     "name": "stdout",
     "output_type": "stream",
     "text": [
      "n_components = 4 \n",
      "\n",
      "Explained Variance Ratio:  [0.92461872]\n",
      "Explained Variance:  [4.22824171]\n"
     ]
    }
   ],
   "source": [
    "pca4 = PCA(n_components=4) \n",
    "pca4.fit(x) \n",
    "\n",
    "print(\"n_components = 4 \\n\")\n",
    "print(\"Explained Variance Ratio: \", pca1.explained_variance_ratio_) \n",
    "print(\"Explained Variance: \", pca1.explained_variance_)"
   ]
  },
  {
   "cell_type": "code",
   "execution_count": null,
   "id": "chemical-binding",
   "metadata": {},
   "outputs": [],
   "source": []
  }
 ],
 "metadata": {
  "kernelspec": {
   "display_name": "Python 3",
   "language": "python",
   "name": "python3"
  },
  "language_info": {
   "codemirror_mode": {
    "name": "ipython",
    "version": 3
   },
   "file_extension": ".py",
   "mimetype": "text/x-python",
   "name": "python",
   "nbconvert_exporter": "python",
   "pygments_lexer": "ipython3",
   "version": "3.9.1"
  }
 },
 "nbformat": 4,
 "nbformat_minor": 5
}
